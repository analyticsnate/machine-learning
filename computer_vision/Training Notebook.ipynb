{
 "cells": [
  {
   "cell_type": "code",
   "execution_count": 1,
   "metadata": {},
   "outputs": [],
   "source": [
    "import cv2\n",
    "import numpy as np\n",
    "import random"
   ]
  },
  {
   "cell_type": "code",
   "execution_count": 2,
   "metadata": {},
   "outputs": [],
   "source": [
    "img = cv2.imread('altus_logo.png')"
   ]
  },
  {
   "cell_type": "code",
   "execution_count": 3,
   "metadata": {},
   "outputs": [
    {
     "data": {
      "text/plain": [
       "(116, 433, 3)"
      ]
     },
     "execution_count": 3,
     "metadata": {},
     "output_type": "execute_result"
    }
   ],
   "source": [
    "img.shape"
   ]
  },
  {
   "cell_type": "code",
   "execution_count": 4,
   "metadata": {},
   "outputs": [],
   "source": [
    "def show(img):\n",
    "    cv2.imshow('image', img)\n",
    "    cv2.waitKey(0)\n",
    "    cv2.destroyAllWindows()"
   ]
  },
  {
   "cell_type": "code",
   "execution_count": 5,
   "metadata": {},
   "outputs": [],
   "source": [
    "resized_img = cv2.resize(img, (128, 256))\n",
    "show(resized_img)"
   ]
  },
  {
   "cell_type": "code",
   "execution_count": 8,
   "metadata": {},
   "outputs": [],
   "source": [
    "# resize using nearest-neighbor interpolation instead of default\n",
    "# there are a few types of interpolation, and they define how the values\n",
    "# between the pixels are computed during a resize\n",
    "w_mult, h_mult = 2, 4\n",
    "resized_img = cv2.resize(img, (0, 0), resized_img, w_mult, h_mult, cv2.INTER_NEAREST)\n",
    "show(resized_img)"
   ]
  },
  {
   "cell_type": "code",
   "execution_count": 11,
   "metadata": {},
   "outputs": [],
   "source": [
    "# flip along x axis\n",
    "img_flip = cv2.flip(img, -1)\n",
    "show(img_flip)"
   ]
  },
  {
   "cell_type": "code",
   "execution_count": 12,
   "metadata": {},
   "outputs": [],
   "source": [
    "# functon to save an image = cv2.imwrite()\n",
    "# tradeoff between file size and encoding/decoding time\n",
    "# the smaller the file, the longer it takes to decode"
   ]
  },
  {
   "cell_type": "code",
   "execution_count": 6,
   "metadata": {},
   "outputs": [],
   "source": [
    "# really cool - create a window with slider values for r, g, and b\n",
    "# generate a background image based on the three values\n",
    "# use ESC to exit\n",
    "cv2.namedWindow('window')\n",
    "fill_val = np.array([255,255,255], np.uint8)\n",
    "\n",
    "def trackbar_callback(idx, value):\n",
    "    fill_val[idx] = value\n",
    "    \n",
    "cv2.createTrackbar('R', 'window', 255, 255, lambda v:\n",
    "trackbar_callback(2, v))\n",
    "cv2.createTrackbar('G', 'window', 255, 255, lambda v:\n",
    "trackbar_callback(1, v))\n",
    "cv2.createTrackbar('B', 'window', 255, 255, lambda v:\n",
    "trackbar_callback(0, v))\n",
    "\n",
    "while True:\n",
    "    image = np.full((500, 500, 3), fill_val)\n",
    "    cv2.imshow('window', image)\n",
    "    key = cv2.waitKey(3)\n",
    "    if key == 27:\n",
    "        break\n",
    "\n",
    "cv2.destroyAllWindows()"
   ]
  },
  {
   "cell_type": "code",
   "execution_count": 13,
   "metadata": {},
   "outputs": [],
   "source": [
    "# draw circles on the image\n",
    "img = cv2.imread('altus_logo.png')\n",
    "w, h = img.shape[1], img.shape[0]\n",
    "\n",
    "def rand_pt(mult=1.):\n",
    "    # returns a random point inside our image range\n",
    "    return (random.randrange(int(w * mult)), random.randrange(int(h * mult)))\n",
    "\n",
    "cv2.circle(img, rand_pt(), 40, (255, 0, 0))\n",
    "cv2.circle(img, rand_pt(), 5, (255, 0, 0), cv2.FILLED)\n",
    "cv2.circle(img, rand_pt(), 40, (255, 85, 85), 2)\n",
    "cv2.circle(img, rand_pt(), 40, (255, 170, 170), 2, cv2.LINE_AA)\n",
    "\n",
    "show(img)"
   ]
  },
  {
   "cell_type": "code",
   "execution_count": 14,
   "metadata": {},
   "outputs": [],
   "source": [
    "# and also draw line\n",
    "cv2.line(img, rand_pt(), rand_pt(), (0, 255, 0))\n",
    "cv2.line(img, rand_pt(), rand_pt(), (85, 255, 85), 3)\n",
    "cv2.line(img, rand_pt(), rand_pt(), (170, 255, 170), 3, cv2.LINE_AA)\n",
    "\n",
    "show(img)"
   ]
  },
  {
   "cell_type": "code",
   "execution_count": 15,
   "metadata": {},
   "outputs": [],
   "source": [
    "# also these drawing functions\n",
    "# arrowedLine(), rectangle(), ellipse(), and putText()\n",
    "cv2.putText(img, \"NATE'S TEXT\", rand_pt(), cv2.FONT_HERSHEY_SIMPLEX, 1, (0, 0, 0), 3)\n",
    "\n",
    "show(img)"
   ]
  },
  {
   "cell_type": "code",
   "execution_count": 5,
   "metadata": {},
   "outputs": [],
   "source": [
    "img = cv2.imread('altus_logo.png')\n",
    "w, h = img.shape[1], img.shape[0]\n",
    "image_to_show = np.copy(img)\n",
    "\n",
    "def rand_pt():\n",
    "    return (random.randrange(w), random.randrange(h))\n",
    "\n",
    "finish = False\n",
    "while not finish:\n",
    "    cv2.imshow(\"result\", image_to_show)\n",
    "    key = cv2.waitKey(0)\n",
    "    if key == ord('p'):\n",
    "        for pt in [rand_pt() for _ in range(10)]:\n",
    "            cv2.circle(image_to_show, pt, 3, (255, 0, 0), -1)\n",
    "    elif key == ord('l'):\n",
    "        cv2.line(image_to_show, rand_pt(), rand_pt(), (0, 255, 0), 3)\n",
    "    elif key == ord('r'):\n",
    "        cv2.rectangle(image_to_show, rand_pt(), rand_pt(), (0, 0, 255), 3)\n",
    "    elif key == ord('e'):\n",
    "        cv2.ellipse(image_to_show, rand_pt(), rand_pt(), random.randrange(360), 0, 360, (255, 255, 0), 3)\n",
    "    elif key == ord('t'):\n",
    "        cv2.putText(image_to_show, \"NATE'S TEXT\", rand_pt(), cv2.FONT_HERSHEY_SIMPLEX, 1, (0, 0, 0), 3)\n",
    "    elif key == ord('c'):\n",
    "        image_to_show = np.copy(img)\n",
    "    elif key == 27:\n",
    "        finish = True"
   ]
  },
  {
   "cell_type": "code",
   "execution_count": null,
   "metadata": {},
   "outputs": [],
   "source": []
  }
 ],
 "metadata": {
  "kernelspec": {
   "display_name": "Python 3",
   "language": "python",
   "name": "python3"
  },
  "language_info": {
   "codemirror_mode": {
    "name": "ipython",
    "version": 3
   },
   "file_extension": ".py",
   "mimetype": "text/x-python",
   "name": "python",
   "nbconvert_exporter": "python",
   "pygments_lexer": "ipython3",
   "version": "3.7.3"
  }
 },
 "nbformat": 4,
 "nbformat_minor": 2
}
